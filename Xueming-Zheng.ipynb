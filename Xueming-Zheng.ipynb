{
 "cells": [
  {
   "cell_type": "markdown",
   "metadata": {},
   "source": [
    "# Introduction"
   ]
  },
  {
   "cell_type": "markdown",
   "metadata": {},
   "source": [
    "This is an extensive Exploratory Data Aanalysis for the Student Major Prediction within the Python Environment. \n",
    "We will visualise all the different data features, their relation to the target variable, explore multi-parameter interactions, and perform feature engineering.\n",
    "\n",
    "The aim of this challenge is to use historical data of student course records to predict potential majors for new students who have yet to declare their major. \n",
    "\n",
    "The data contains one training and test file each: ./training.psv & ./eval.psv.\n",
    "Each row corresponds to a specific student course record and the columns describe their features (grade, level, course name). The target variable is the major of the student."
   ]
  },
  {
   "cell_type": "markdown",
   "metadata": {},
   "source": [
    "# Loading packages & data"
   ]
  },
  {
   "cell_type": "code",
   "execution_count": 145,
   "metadata": {},
   "outputs": [],
   "source": [
    "import numpy as np\n",
    "import pandas as pd\n",
    "import seaborn as sns\n",
    "import matplotlib.pyplot as plt\n",
    "from scipy import stats\n",
    "from sklearn import preprocessing\n",
    "from sklearn.model_selection import KFold, StratifiedKFold\n",
    "import lightgbm as lgb\n",
    "import warnings\n",
    "warnings.simplefilter(action='ignore', category=FutureWarning)\n",
    "warnings.filterwarnings('ignore')"
   ]
  },
  {
   "cell_type": "code",
   "execution_count": 146,
   "metadata": {},
   "outputs": [],
   "source": [
    "train=pd.read_csv('training.psv',delimiter='|')\n",
    "test = pd.read_csv('eval.psv',delimiter = '|')"
   ]
  },
  {
   "cell_type": "markdown",
   "metadata": {},
   "source": [
    "Check basic information of  data"
   ]
  },
  {
   "cell_type": "code",
   "execution_count": 147,
   "metadata": {},
   "outputs": [
    {
     "data": {
      "text/html": [
       "<div>\n",
       "<style scoped>\n",
       "    .dataframe tbody tr th:only-of-type {\n",
       "        vertical-align: middle;\n",
       "    }\n",
       "\n",
       "    .dataframe tbody tr th {\n",
       "        vertical-align: top;\n",
       "    }\n",
       "\n",
       "    .dataframe thead th {\n",
       "        text-align: right;\n",
       "    }\n",
       "</style>\n",
       "<table border=\"1\" class=\"dataframe\">\n",
       "  <thead>\n",
       "    <tr style=\"text-align: right;\">\n",
       "      <th></th>\n",
       "      <th>student_id</th>\n",
       "      <th>level</th>\n",
       "      <th>course</th>\n",
       "      <th>grade</th>\n",
       "      <th>major</th>\n",
       "    </tr>\n",
       "  </thead>\n",
       "  <tbody>\n",
       "    <tr>\n",
       "      <th>0</th>\n",
       "      <td>ppVGBRKhtqqyxnVO</td>\n",
       "      <td>Freshman</td>\n",
       "      <td>SPAN:100</td>\n",
       "      <td>A</td>\n",
       "      <td>Business</td>\n",
       "    </tr>\n",
       "    <tr>\n",
       "      <th>1</th>\n",
       "      <td>PiPkSgMGbFIu5RwR</td>\n",
       "      <td>Freshman</td>\n",
       "      <td>CSI:160</td>\n",
       "      <td>S</td>\n",
       "      <td>International Relations</td>\n",
       "    </tr>\n",
       "    <tr>\n",
       "      <th>2</th>\n",
       "      <td>PiPkSgMGbFIu5RwR</td>\n",
       "      <td>Sophomore</td>\n",
       "      <td>EES:107</td>\n",
       "      <td>C</td>\n",
       "      <td>International Relations</td>\n",
       "    </tr>\n",
       "    <tr>\n",
       "      <th>3</th>\n",
       "      <td>PiPkSgMGbFIu5RwR</td>\n",
       "      <td>Senior</td>\n",
       "      <td>SPAN:201</td>\n",
       "      <td>B</td>\n",
       "      <td>International Relations</td>\n",
       "    </tr>\n",
       "    <tr>\n",
       "      <th>4</th>\n",
       "      <td>PiPkSgMGbFIu5RwR</td>\n",
       "      <td>Junior</td>\n",
       "      <td>ENTR:200</td>\n",
       "      <td>B+</td>\n",
       "      <td>International Relations</td>\n",
       "    </tr>\n",
       "  </tbody>\n",
       "</table>\n",
       "</div>"
      ],
      "text/plain": [
       "         student_id      level    course grade                    major\n",
       "0  ppVGBRKhtqqyxnVO   Freshman  SPAN:100     A                 Business\n",
       "1  PiPkSgMGbFIu5RwR   Freshman   CSI:160     S  International Relations\n",
       "2  PiPkSgMGbFIu5RwR  Sophomore   EES:107     C  International Relations\n",
       "3  PiPkSgMGbFIu5RwR     Senior  SPAN:201     B  International Relations\n",
       "4  PiPkSgMGbFIu5RwR     Junior  ENTR:200    B+  International Relations"
      ]
     },
     "execution_count": 147,
     "metadata": {},
     "output_type": "execute_result"
    }
   ],
   "source": [
    "##display the first five rows of the train dataset.\n",
    "train.head(5)"
   ]
  },
  {
   "cell_type": "code",
   "execution_count": 148,
   "metadata": {},
   "outputs": [
    {
     "data": {
      "text/html": [
       "<div>\n",
       "<style scoped>\n",
       "    .dataframe tbody tr th:only-of-type {\n",
       "        vertical-align: middle;\n",
       "    }\n",
       "\n",
       "    .dataframe tbody tr th {\n",
       "        vertical-align: top;\n",
       "    }\n",
       "\n",
       "    .dataframe thead th {\n",
       "        text-align: right;\n",
       "    }\n",
       "</style>\n",
       "<table border=\"1\" class=\"dataframe\">\n",
       "  <thead>\n",
       "    <tr style=\"text-align: right;\">\n",
       "      <th></th>\n",
       "      <th>student_id</th>\n",
       "      <th>level</th>\n",
       "      <th>course</th>\n",
       "      <th>grade</th>\n",
       "      <th>major1</th>\n",
       "      <th>major2</th>\n",
       "      <th>major3</th>\n",
       "    </tr>\n",
       "  </thead>\n",
       "  <tbody>\n",
       "    <tr>\n",
       "      <th>0</th>\n",
       "      <td>6Q79FVMSbTPMBhha</td>\n",
       "      <td>Senior</td>\n",
       "      <td>ECE:489</td>\n",
       "      <td>A</td>\n",
       "      <td>NaN</td>\n",
       "      <td>NaN</td>\n",
       "      <td>NaN</td>\n",
       "    </tr>\n",
       "    <tr>\n",
       "      <th>1</th>\n",
       "      <td>6Q79FVMSbTPMBhha</td>\n",
       "      <td>Sophomore</td>\n",
       "      <td>MATH:246</td>\n",
       "      <td>B</td>\n",
       "      <td>NaN</td>\n",
       "      <td>NaN</td>\n",
       "      <td>NaN</td>\n",
       "    </tr>\n",
       "    <tr>\n",
       "      <th>2</th>\n",
       "      <td>6Q79FVMSbTPMBhha</td>\n",
       "      <td>Sophomore</td>\n",
       "      <td>ECE:344</td>\n",
       "      <td>C+</td>\n",
       "      <td>NaN</td>\n",
       "      <td>NaN</td>\n",
       "      <td>NaN</td>\n",
       "    </tr>\n",
       "    <tr>\n",
       "      <th>3</th>\n",
       "      <td>6Q79FVMSbTPMBhha</td>\n",
       "      <td>Junior</td>\n",
       "      <td>ARTS:280</td>\n",
       "      <td>B</td>\n",
       "      <td>NaN</td>\n",
       "      <td>NaN</td>\n",
       "      <td>NaN</td>\n",
       "    </tr>\n",
       "    <tr>\n",
       "      <th>4</th>\n",
       "      <td>6Q79FVMSbTPMBhha</td>\n",
       "      <td>Freshman</td>\n",
       "      <td>CSI:160</td>\n",
       "      <td>AUS</td>\n",
       "      <td>NaN</td>\n",
       "      <td>NaN</td>\n",
       "      <td>NaN</td>\n",
       "    </tr>\n",
       "  </tbody>\n",
       "</table>\n",
       "</div>"
      ],
      "text/plain": [
       "         student_id      level    course grade  major1  major2  major3\n",
       "0  6Q79FVMSbTPMBhha     Senior   ECE:489     A     NaN     NaN     NaN\n",
       "1  6Q79FVMSbTPMBhha  Sophomore  MATH:246     B     NaN     NaN     NaN\n",
       "2  6Q79FVMSbTPMBhha  Sophomore   ECE:344    C+     NaN     NaN     NaN\n",
       "3  6Q79FVMSbTPMBhha     Junior  ARTS:280     B     NaN     NaN     NaN\n",
       "4  6Q79FVMSbTPMBhha   Freshman   CSI:160   AUS     NaN     NaN     NaN"
      ]
     },
     "execution_count": 148,
     "metadata": {},
     "output_type": "execute_result"
    }
   ],
   "source": [
    "##display the first five rows of the test dataset.\n",
    "test.head(5)"
   ]
  },
  {
   "cell_type": "code",
   "execution_count": 149,
   "metadata": {},
   "outputs": [
    {
     "name": "stdout",
     "output_type": "stream",
     "text": [
      "Missing value in train is  0 \n",
      "Missing value in train is  0\n"
     ]
    }
   ],
   "source": [
    "# Check missing value in train data\n",
    "print('Missing value in train is  {} '.format(train.isnull().sum(axis=0).values.sum()))\n",
    "# ['major1','major2','major3'] is droped in test set\n",
    "print('Missing value in train is  {}'.format(test.drop(['major1','major2','major3'],axis=1).isnull().sum(axis=0).values.sum()))"
   ]
  },
  {
   "cell_type": "code",
   "execution_count": 150,
   "metadata": {},
   "outputs": [
    {
     "name": "stdout",
     "output_type": "stream",
     "text": [
      "The total number of distinct major is : 81\n",
      "The total number of distinct course is : 2721\n",
      "The total number of distinct level is : 4\n",
      "The total number of distinct grade is : 21\n"
     ]
    }
   ],
   "source": [
    "# check the total number of distinct major\n",
    "print(\"The total number of distinct major is :\", train.major.nunique())\n",
    "# check the total number of course\n",
    "print(\"The total number of distinct course is :\", train.course.nunique())\n",
    "# check the total number of level\n",
    "print(\"The total number of distinct level is :\", train.level.nunique())\n",
    "# check the total number of grade\n",
    "print(\"The total number of distinct grade is :\", train.grade.nunique())"
   ]
  },
  {
   "cell_type": "code",
   "execution_count": 151,
   "metadata": {},
   "outputs": [
    {
     "name": "stdout",
     "output_type": "stream",
     "text": [
      "The distinct grade in training dataset is : ['A' 'S' 'C' 'B' 'B+' 'D+' 'A-' 'C+' 'B-' 'D' 'A+' 'C-' 'R' 'AUS' 'D-' 'I'\n",
      " 'P' 'U' 'WX' 'AUU' 'N']\n",
      "The distinct grade in test dataset is : ['A' 'B' 'C+' 'AUS' 'A-' 'B+' 'S' 'B-' 'C-' 'D' 'C' 'A+' 'D-' 'D+' 'P' 'R'\n",
      " 'I' 'N' 'WX' 'AUU' 'U']\n"
     ]
    }
   ],
   "source": [
    "# check the distinct major of training dataset\n",
    "print(\"The distinct grade in training dataset is :\", train.grade.unique())\n",
    "# check the distinct major of test dataset\n",
    "print(\"The distinct grade in test dataset is :\", test.grade.unique())"
   ]
  },
  {
   "cell_type": "markdown",
   "metadata": {},
   "source": [
    "We found that the number of distinct grade in training data and evaluation data is 21. \n",
    "Though 'I', 'WX', 'R' are not listed in the grades table, they existed in the training and testing dataset. We will use them as aditional features."
   ]
  },
  {
   "cell_type": "code",
   "execution_count": 152,
   "metadata": {},
   "outputs": [
    {
     "name": "stdout",
     "output_type": "stream",
     "text": [
      "The distinct number of student_id in training dataset is : 10000\n",
      "The distinct number of student_id in test dataset is  : 2000\n"
     ]
    }
   ],
   "source": [
    "# check the distinct number of student_id in training dataset\n",
    "print(\"The distinct number of student_id in training dataset is :\", train.student_id.nunique())\n",
    "# check the distinct number of student_id in test dataset\n",
    "print(\"The distinct number of student_id in test dataset is  :\", test.student_id.nunique())"
   ]
  },
  {
   "cell_type": "code",
   "execution_count": 153,
   "metadata": {},
   "outputs": [
    {
     "name": "stdout",
     "output_type": "stream",
     "text": [
      "The train data shape is : (97276, 5) \n",
      "The test data shape is : (19440, 7) \n"
     ]
    }
   ],
   "source": [
    "# check the shape\n",
    "print(\"The train data shape is : {} \".format(train.shape))\n",
    "print(\"The test data shape is : {} \".format(test.shape))"
   ]
  },
  {
   "cell_type": "markdown",
   "metadata": {},
   "source": [
    "# Data visulization "
   ]
  },
  {
   "cell_type": "markdown",
   "metadata": {},
   "source": [
    "Before feature engineering, we only have three features, which are level, grade, course name. The distinct number of  course name, level, grade are 2721, 4, 21. All of them are categorical features. The large number of distinct course name makes it difficult to make the plot. \n",
    "\n",
    "So here we simply use a count plot to see how grade distributed in different level. We will make more plots after implement feature engineering."
   ]
  },
  {
   "cell_type": "code",
   "execution_count": 154,
   "metadata": {},
   "outputs": [
    {
     "data": {
      "image/png": "[encoded data removed]",
      "text/plain": [
       "<Figure size 1296x432 with 1 Axes>"
      ]
     },
     "metadata": {
      "needs_background": "light"
     },
     "output_type": "display_data"
    }
   ],
   "source": [
    "fig, ax = plt.subplots( figsize=(18, 6))\n",
    "ax = sns.countplot(x=\"level\", hue=\"grade\", data=train)\n",
    "ax.set_xlabel('Levels', fontsize=12)\n",
    "plt.show()"
   ]
  },
  {
   "cell_type": "markdown",
   "metadata": {},
   "source": [
    "From this count plot, we can tell: \n",
    "1. Senior level contributes the largest part of observations.\n",
    "2. The grade distribution of different levels have similar shape."
   ]
  },
  {
   "cell_type": "markdown",
   "metadata": {},
   "source": [
    "# Feature Engneering"
   ]
  },
  {
   "cell_type": "code",
   "execution_count": 155,
   "metadata": {},
   "outputs": [
    {
     "name": "stdout",
     "output_type": "stream",
     "text": [
      "data size is : (116716, 4)\n"
     ]
    }
   ],
   "source": [
    "# combine train and test as data.\n",
    "ntrain = train.shape[0]\n",
    "ntest = test.shape[0]\n",
    "# Extract the target variables\n",
    "major = train['major']\n",
    "obs_tr=train.shape[0]\n",
    "obs_ev=test.shape[0]\n",
    "cols=['student_id', 'level', 'course', 'grade']\n",
    "data=pd.concat([train[cols],test[cols]],axis=0)\n",
    "print(\"data size is : {}\".format(data.shape))"
   ]
  },
  {
   "cell_type": "markdown",
   "metadata": {},
   "source": [
    " ## Feature Engneering on grade column"
   ]
  },
  {
   "cell_type": "markdown",
   "metadata": {},
   "source": [
    "### Transforing Grades A-F to values"
   ]
  },
  {
   "cell_type": "code",
   "execution_count": 156,
   "metadata": {},
   "outputs": [
    {
     "data": {
      "text/plain": [
       "array([ 2.,  0.,  8.,  5.,  4., 10.,  3.,  7.,  6., 11.,  1.,  9., 12.])"
      ]
     },
     "execution_count": 156,
     "metadata": {},
     "output_type": "execute_result"
    }
   ],
   "source": [
    "# First transforing grades A-F to values, lower grade is corresponding to lager value\n",
    "data['letter_grade']=data.grade.map({'A+':1,'A':2,'A-':3,'B+':4,'B':5,'B-':6,\n",
    "                                       'C+':7,'C':8,'C-':9,'D+':10,'D':11,'D-':12,'F':13})\n",
    "data['letter_grade']=data['letter_grade'].fillna(0)\n",
    "data.letter_grade.unique()"
   ]
  },
  {
   "cell_type": "markdown",
   "metadata": {},
   "source": [
    "### Feature on other grades (except A-F )"
   ]
  },
  {
   "cell_type": "code",
   "execution_count": 157,
   "metadata": {},
   "outputs": [],
   "source": [
    "# functions that create new features from grade\n",
    "def satis(s):\n",
    "    if s=='S':return 1\n",
    "    elif s=='U':return 0\n",
    "    else: return -1\n",
    "def aud(s):\n",
    "    if s=='AUS': return 1\n",
    "    elif s=='AUU': return 0\n",
    "    else:return -1\n",
    "def ps(s):\n",
    "    if s=='P': return 1\n",
    "    elif s=='N': return 0\n",
    "    else: return -1\n",
    "def adds(s):\n",
    "    if s=='I': return 1\n",
    "    elif s=='WX': return 2\n",
    "    elif s=='R':return 3\n",
    "    else: return 0"
   ]
  },
  {
   "cell_type": "code",
   "execution_count": 158,
   "metadata": {},
   "outputs": [],
   "source": [
    "# create new feature S from grade, it tells whether the student has get Satisfactory grade or not\n",
    "data['S']=data.grade.apply(satis)\n",
    "# create new feature P from grade, it tells whether the student has pass the course or not\n",
    "data['P']=data.grade.apply(ps)\n",
    "# create new feature AU from grade, it tells whether the student has Audit the course successfully or not\n",
    "data['AU']=data.grade.apply(aud)\n",
    "## create new feature unknown_grade from grade, it tells whether the student has get unknown grade for the course or not\n",
    "data['unknown_grade']=data.grade.apply(adds)"
   ]
  },
  {
   "cell_type": "markdown",
   "metadata": {},
   "source": [
    "## Feature Engneering on level column"
   ]
  },
  {
   "cell_type": "code",
   "execution_count": 159,
   "metadata": {},
   "outputs": [],
   "source": [
    "# Use number to represent students' level, larger number means higher level\n",
    "data['level']=data['level'].map({'Freshman':1,'Sophomore':2,'Junior':3,'Senior':4})"
   ]
  },
  {
   "cell_type": "markdown",
   "metadata": {},
   "source": [
    "## Feature Engneering on course column\n",
    "\n",
    "Course are high cardinality features with no order, one_hot & lable encoding can't be applied here. A possible solution is target encoding.(https://medium.com/datadriveninvestor/improve-your-classification-models-using-mean-target-encoding-a3d573df31e8). However in this case, target has no order. So we extract the prefix which is closely related to major and aggregate it by its model grouped by student_id."
   ]
  },
  {
   "cell_type": "code",
   "execution_count": 160,
   "metadata": {},
   "outputs": [
    {
     "name": "stdout",
     "output_type": "stream",
     "text": [
      "The unique number of the course prefix is :  182\n"
     ]
    }
   ],
   "source": [
    "# define function to extract the prefix of the course name\n",
    "def sep_course(s):\n",
    "    A,B=s.split(':')\n",
    "    return A\n",
    "data['course_prefix']=data.course.apply(sep_course)\n",
    "print('The unique number of the course prefix is : ', data.course_prefix.nunique())"
   ]
  },
  {
   "cell_type": "markdown",
   "metadata": {},
   "source": [
    "## Label encoding course prefix"
   ]
  },
  {
   "cell_type": "code",
   "execution_count": 161,
   "metadata": {},
   "outputs": [
    {
     "data": {
      "text/html": [
       "<div>\n",
       "<style scoped>\n",
       "    .dataframe tbody tr th:only-of-type {\n",
       "        vertical-align: middle;\n",
       "    }\n",
       "\n",
       "    .dataframe tbody tr th {\n",
       "        vertical-align: top;\n",
       "    }\n",
       "\n",
       "    .dataframe thead th {\n",
       "        text-align: right;\n",
       "    }\n",
       "</style>\n",
       "<table border=\"1\" class=\"dataframe\">\n",
       "  <thead>\n",
       "    <tr style=\"text-align: right;\">\n",
       "      <th></th>\n",
       "      <th>student_id</th>\n",
       "      <th>level</th>\n",
       "      <th>course</th>\n",
       "      <th>grade</th>\n",
       "      <th>letter_grade</th>\n",
       "      <th>S</th>\n",
       "      <th>P</th>\n",
       "      <th>AU</th>\n",
       "      <th>unknown_grade</th>\n",
       "      <th>course_prefix</th>\n",
       "    </tr>\n",
       "  </thead>\n",
       "  <tbody>\n",
       "    <tr>\n",
       "      <th>0</th>\n",
       "      <td>ppVGBRKhtqqyxnVO</td>\n",
       "      <td>1</td>\n",
       "      <td>SPAN:100</td>\n",
       "      <td>A</td>\n",
       "      <td>2.0</td>\n",
       "      <td>-1</td>\n",
       "      <td>-1</td>\n",
       "      <td>-1</td>\n",
       "      <td>0</td>\n",
       "      <td>162</td>\n",
       "    </tr>\n",
       "    <tr>\n",
       "      <th>1</th>\n",
       "      <td>PiPkSgMGbFIu5RwR</td>\n",
       "      <td>1</td>\n",
       "      <td>CSI:160</td>\n",
       "      <td>S</td>\n",
       "      <td>0.0</td>\n",
       "      <td>1</td>\n",
       "      <td>-1</td>\n",
       "      <td>-1</td>\n",
       "      <td>0</td>\n",
       "      <td>49</td>\n",
       "    </tr>\n",
       "    <tr>\n",
       "      <th>2</th>\n",
       "      <td>PiPkSgMGbFIu5RwR</td>\n",
       "      <td>2</td>\n",
       "      <td>EES:107</td>\n",
       "      <td>C</td>\n",
       "      <td>8.0</td>\n",
       "      <td>-1</td>\n",
       "      <td>-1</td>\n",
       "      <td>-1</td>\n",
       "      <td>0</td>\n",
       "      <td>60</td>\n",
       "    </tr>\n",
       "    <tr>\n",
       "      <th>3</th>\n",
       "      <td>PiPkSgMGbFIu5RwR</td>\n",
       "      <td>4</td>\n",
       "      <td>SPAN:201</td>\n",
       "      <td>B</td>\n",
       "      <td>5.0</td>\n",
       "      <td>-1</td>\n",
       "      <td>-1</td>\n",
       "      <td>-1</td>\n",
       "      <td>0</td>\n",
       "      <td>162</td>\n",
       "    </tr>\n",
       "    <tr>\n",
       "      <th>4</th>\n",
       "      <td>PiPkSgMGbFIu5RwR</td>\n",
       "      <td>3</td>\n",
       "      <td>ENTR:200</td>\n",
       "      <td>B+</td>\n",
       "      <td>4.0</td>\n",
       "      <td>-1</td>\n",
       "      <td>-1</td>\n",
       "      <td>-1</td>\n",
       "      <td>0</td>\n",
       "      <td>65</td>\n",
       "    </tr>\n",
       "  </tbody>\n",
       "</table>\n",
       "</div>"
      ],
      "text/plain": [
       "         student_id  level    course grade  letter_grade  S  P  AU  \\\n",
       "0  ppVGBRKhtqqyxnVO      1  SPAN:100     A           2.0 -1 -1  -1   \n",
       "1  PiPkSgMGbFIu5RwR      1   CSI:160     S           0.0  1 -1  -1   \n",
       "2  PiPkSgMGbFIu5RwR      2   EES:107     C           8.0 -1 -1  -1   \n",
       "3  PiPkSgMGbFIu5RwR      4  SPAN:201     B           5.0 -1 -1  -1   \n",
       "4  PiPkSgMGbFIu5RwR      3  ENTR:200    B+           4.0 -1 -1  -1   \n",
       "\n",
       "   unknown_grade  course_prefix  \n",
       "0              0            162  \n",
       "1              0             49  \n",
       "2              0             60  \n",
       "3              0            162  \n",
       "4              0             65  "
      ]
     },
     "execution_count": 161,
     "metadata": {},
     "output_type": "execute_result"
    }
   ],
   "source": [
    "le = preprocessing.LabelEncoder()\n",
    "le.fit(data.course_prefix)\n",
    "data['course_prefix']=le.transform(data.course_prefix)\n",
    "data.head()"
   ]
  },
  {
   "cell_type": "code",
   "execution_count": 162,
   "metadata": {},
   "outputs": [],
   "source": [
    "# Seperate the training and testing dataset, we will implement aggregation on \n",
    "d_train=data.iloc[0:obs_tr]\n",
    "d_eval=data.iloc[-obs_ev:]\n",
    "d_train['major']=train.major"
   ]
  },
  {
   "cell_type": "markdown",
   "metadata": {},
   "source": [
    "## Label encoding major "
   ]
  },
  {
   "cell_type": "code",
   "execution_count": 163,
   "metadata": {},
   "outputs": [
    {
     "data": {
      "text/html": [
       "<div>\n",
       "<style scoped>\n",
       "    .dataframe tbody tr th:only-of-type {\n",
       "        vertical-align: middle;\n",
       "    }\n",
       "\n",
       "    .dataframe tbody tr th {\n",
       "        vertical-align: top;\n",
       "    }\n",
       "\n",
       "    .dataframe thead th {\n",
       "        text-align: right;\n",
       "    }\n",
       "</style>\n",
       "<table border=\"1\" class=\"dataframe\">\n",
       "  <thead>\n",
       "    <tr style=\"text-align: right;\">\n",
       "      <th></th>\n",
       "      <th>student_id</th>\n",
       "      <th>level</th>\n",
       "      <th>course</th>\n",
       "      <th>grade</th>\n",
       "      <th>letter_grade</th>\n",
       "      <th>S</th>\n",
       "      <th>P</th>\n",
       "      <th>AU</th>\n",
       "      <th>unknown_grade</th>\n",
       "      <th>course_prefix</th>\n",
       "      <th>major</th>\n",
       "    </tr>\n",
       "  </thead>\n",
       "  <tbody>\n",
       "    <tr>\n",
       "      <th>0</th>\n",
       "      <td>ppVGBRKhtqqyxnVO</td>\n",
       "      <td>1</td>\n",
       "      <td>SPAN:100</td>\n",
       "      <td>A</td>\n",
       "      <td>2.0</td>\n",
       "      <td>-1</td>\n",
       "      <td>-1</td>\n",
       "      <td>-1</td>\n",
       "      <td>0</td>\n",
       "      <td>162</td>\n",
       "      <td>11</td>\n",
       "    </tr>\n",
       "    <tr>\n",
       "      <th>1</th>\n",
       "      <td>PiPkSgMGbFIu5RwR</td>\n",
       "      <td>1</td>\n",
       "      <td>CSI:160</td>\n",
       "      <td>S</td>\n",
       "      <td>0.0</td>\n",
       "      <td>1</td>\n",
       "      <td>-1</td>\n",
       "      <td>-1</td>\n",
       "      <td>0</td>\n",
       "      <td>49</td>\n",
       "      <td>45</td>\n",
       "    </tr>\n",
       "    <tr>\n",
       "      <th>2</th>\n",
       "      <td>PiPkSgMGbFIu5RwR</td>\n",
       "      <td>2</td>\n",
       "      <td>EES:107</td>\n",
       "      <td>C</td>\n",
       "      <td>8.0</td>\n",
       "      <td>-1</td>\n",
       "      <td>-1</td>\n",
       "      <td>-1</td>\n",
       "      <td>0</td>\n",
       "      <td>60</td>\n",
       "      <td>45</td>\n",
       "    </tr>\n",
       "    <tr>\n",
       "      <th>3</th>\n",
       "      <td>PiPkSgMGbFIu5RwR</td>\n",
       "      <td>4</td>\n",
       "      <td>SPAN:201</td>\n",
       "      <td>B</td>\n",
       "      <td>5.0</td>\n",
       "      <td>-1</td>\n",
       "      <td>-1</td>\n",
       "      <td>-1</td>\n",
       "      <td>0</td>\n",
       "      <td>162</td>\n",
       "      <td>45</td>\n",
       "    </tr>\n",
       "    <tr>\n",
       "      <th>4</th>\n",
       "      <td>PiPkSgMGbFIu5RwR</td>\n",
       "      <td>3</td>\n",
       "      <td>ENTR:200</td>\n",
       "      <td>B+</td>\n",
       "      <td>4.0</td>\n",
       "      <td>-1</td>\n",
       "      <td>-1</td>\n",
       "      <td>-1</td>\n",
       "      <td>0</td>\n",
       "      <td>65</td>\n",
       "      <td>45</td>\n",
       "    </tr>\n",
       "  </tbody>\n",
       "</table>\n",
       "</div>"
      ],
      "text/plain": [
       "         student_id  level    course grade  letter_grade  S  P  AU  \\\n",
       "0  ppVGBRKhtqqyxnVO      1  SPAN:100     A           2.0 -1 -1  -1   \n",
       "1  PiPkSgMGbFIu5RwR      1   CSI:160     S           0.0  1 -1  -1   \n",
       "2  PiPkSgMGbFIu5RwR      2   EES:107     C           8.0 -1 -1  -1   \n",
       "3  PiPkSgMGbFIu5RwR      4  SPAN:201     B           5.0 -1 -1  -1   \n",
       "4  PiPkSgMGbFIu5RwR      3  ENTR:200    B+           4.0 -1 -1  -1   \n",
       "\n",
       "   unknown_grade  course_prefix  major  \n",
       "0              0            162     11  \n",
       "1              0             49     45  \n",
       "2              0             60     45  \n",
       "3              0            162     45  \n",
       "4              0             65     45  "
      ]
     },
     "execution_count": 163,
     "metadata": {},
     "output_type": "execute_result"
    }
   ],
   "source": [
    "le1 = preprocessing.LabelEncoder()\n",
    "le1.fit(train.major)\n",
    "d_train['major']=le1.transform(d_train.major)\n",
    "d_train.head()"
   ]
  },
  {
   "cell_type": "markdown",
   "metadata": {},
   "source": [
    "# Agregation ( by student_id)\n",
    "There are some student_ids show mutiple times in the training and test dataset, which indicates some students take different courses in different levels. To have a comprehensive student course records, we will implement feature aggregation (by student id).\n",
    "\n",
    "1. Level: we will pick the highest level\n",
    "2. Grade (S,P,AU,unknow_grade): we will pick the mean,variance, min, max, mode of the grade\n",
    "3. Major: a specific student id only has one major\n",
    "4. Course (prefix):we will pick the mode of the course prefix"
   ]
  },
  {
   "cell_type": "code",
   "execution_count": 164,
   "metadata": {},
   "outputs": [
    {
     "data": {
      "text/html": [
       "<div>\n",
       "<style scoped>\n",
       "    .dataframe tbody tr th:only-of-type {\n",
       "        vertical-align: middle;\n",
       "    }\n",
       "\n",
       "    .dataframe tbody tr th {\n",
       "        vertical-align: top;\n",
       "    }\n",
       "\n",
       "    .dataframe thead th {\n",
       "        text-align: right;\n",
       "    }\n",
       "</style>\n",
       "<table border=\"1\" class=\"dataframe\">\n",
       "  <thead>\n",
       "    <tr style=\"text-align: right;\">\n",
       "      <th></th>\n",
       "      <th>student_id</th>\n",
       "      <th>level_max</th>\n",
       "      <th>major_&lt;lambda&gt;</th>\n",
       "      <th>letter_grade_min</th>\n",
       "      <th>letter_grade_max</th>\n",
       "      <th>letter_grade_var</th>\n",
       "      <th>letter_grade_mean</th>\n",
       "      <th>letter_grade_&lt;lambda&gt;</th>\n",
       "      <th>S_sum</th>\n",
       "      <th>S_count</th>\n",
       "      <th>...</th>\n",
       "      <th>P_mean</th>\n",
       "      <th>AU_sum</th>\n",
       "      <th>AU_count</th>\n",
       "      <th>AU_&lt;lambda&gt;</th>\n",
       "      <th>AU_mean</th>\n",
       "      <th>unknown_grade_sum</th>\n",
       "      <th>unknown_grade_count</th>\n",
       "      <th>unknown_grade_&lt;lambda&gt;</th>\n",
       "      <th>unknown_grade_mean</th>\n",
       "      <th>course_prefix_&lt;lambda&gt;</th>\n",
       "    </tr>\n",
       "  </thead>\n",
       "  <tbody>\n",
       "    <tr>\n",
       "      <th>0</th>\n",
       "      <td>01DiJuoJAB395ucJ</td>\n",
       "      <td>4</td>\n",
       "      <td>13</td>\n",
       "      <td>5.0</td>\n",
       "      <td>5.0</td>\n",
       "      <td>NaN</td>\n",
       "      <td>5.000000</td>\n",
       "      <td>5.0</td>\n",
       "      <td>-1</td>\n",
       "      <td>1</td>\n",
       "      <td>...</td>\n",
       "      <td>-1.0</td>\n",
       "      <td>-1</td>\n",
       "      <td>1</td>\n",
       "      <td>-1</td>\n",
       "      <td>-1.0</td>\n",
       "      <td>0</td>\n",
       "      <td>1</td>\n",
       "      <td>0</td>\n",
       "      <td>0.000000</td>\n",
       "      <td>121</td>\n",
       "    </tr>\n",
       "    <tr>\n",
       "      <th>1</th>\n",
       "      <td>01MhxeQl5FhRsf3f</td>\n",
       "      <td>1</td>\n",
       "      <td>11</td>\n",
       "      <td>8.0</td>\n",
       "      <td>8.0</td>\n",
       "      <td>NaN</td>\n",
       "      <td>8.000000</td>\n",
       "      <td>8.0</td>\n",
       "      <td>-1</td>\n",
       "      <td>1</td>\n",
       "      <td>...</td>\n",
       "      <td>-1.0</td>\n",
       "      <td>-1</td>\n",
       "      <td>1</td>\n",
       "      <td>-1</td>\n",
       "      <td>-1.0</td>\n",
       "      <td>0</td>\n",
       "      <td>1</td>\n",
       "      <td>0</td>\n",
       "      <td>0.000000</td>\n",
       "      <td>162</td>\n",
       "    </tr>\n",
       "    <tr>\n",
       "      <th>2</th>\n",
       "      <td>01W7KB8TDNWNx4YW</td>\n",
       "      <td>4</td>\n",
       "      <td>68</td>\n",
       "      <td>0.0</td>\n",
       "      <td>9.0</td>\n",
       "      <td>8.225275</td>\n",
       "      <td>4.071429</td>\n",
       "      <td>5.0</td>\n",
       "      <td>-12</td>\n",
       "      <td>14</td>\n",
       "      <td>...</td>\n",
       "      <td>-1.0</td>\n",
       "      <td>-14</td>\n",
       "      <td>14</td>\n",
       "      <td>-1</td>\n",
       "      <td>-1.0</td>\n",
       "      <td>3</td>\n",
       "      <td>14</td>\n",
       "      <td>0</td>\n",
       "      <td>0.214286</td>\n",
       "      <td>142</td>\n",
       "    </tr>\n",
       "    <tr>\n",
       "      <th>3</th>\n",
       "      <td>042Rmpv5B2kXdfBR</td>\n",
       "      <td>3</td>\n",
       "      <td>20</td>\n",
       "      <td>6.0</td>\n",
       "      <td>6.0</td>\n",
       "      <td>NaN</td>\n",
       "      <td>6.000000</td>\n",
       "      <td>6.0</td>\n",
       "      <td>-1</td>\n",
       "      <td>1</td>\n",
       "      <td>...</td>\n",
       "      <td>-1.0</td>\n",
       "      <td>-1</td>\n",
       "      <td>1</td>\n",
       "      <td>-1</td>\n",
       "      <td>-1.0</td>\n",
       "      <td>0</td>\n",
       "      <td>1</td>\n",
       "      <td>0</td>\n",
       "      <td>0.000000</td>\n",
       "      <td>138</td>\n",
       "    </tr>\n",
       "    <tr>\n",
       "      <th>4</th>\n",
       "      <td>04DuzbneGqk0o0jY</td>\n",
       "      <td>2</td>\n",
       "      <td>29</td>\n",
       "      <td>4.0</td>\n",
       "      <td>4.0</td>\n",
       "      <td>NaN</td>\n",
       "      <td>4.000000</td>\n",
       "      <td>4.0</td>\n",
       "      <td>-1</td>\n",
       "      <td>1</td>\n",
       "      <td>...</td>\n",
       "      <td>-1.0</td>\n",
       "      <td>-1</td>\n",
       "      <td>1</td>\n",
       "      <td>-1</td>\n",
       "      <td>-1.0</td>\n",
       "      <td>0</td>\n",
       "      <td>1</td>\n",
       "      <td>0</td>\n",
       "      <td>0.000000</td>\n",
       "      <td>167</td>\n",
       "    </tr>\n",
       "  </tbody>\n",
       "</table>\n",
       "<p>5 rows × 25 columns</p>\n",
       "</div>"
      ],
      "text/plain": [
       "         student_id  level_max  major_<lambda>  letter_grade_min  \\\n",
       "0  01DiJuoJAB395ucJ          4              13               5.0   \n",
       "1  01MhxeQl5FhRsf3f          1              11               8.0   \n",
       "2  01W7KB8TDNWNx4YW          4              68               0.0   \n",
       "3  042Rmpv5B2kXdfBR          3              20               6.0   \n",
       "4  04DuzbneGqk0o0jY          2              29               4.0   \n",
       "\n",
       "   letter_grade_max  letter_grade_var  letter_grade_mean  \\\n",
       "0               5.0               NaN           5.000000   \n",
       "1               8.0               NaN           8.000000   \n",
       "2               9.0          8.225275           4.071429   \n",
       "3               6.0               NaN           6.000000   \n",
       "4               4.0               NaN           4.000000   \n",
       "\n",
       "   letter_grade_<lambda>  S_sum  S_count  ...  P_mean  AU_sum  AU_count  \\\n",
       "0                    5.0     -1        1  ...    -1.0      -1         1   \n",
       "1                    8.0     -1        1  ...    -1.0      -1         1   \n",
       "2                    5.0    -12       14  ...    -1.0     -14        14   \n",
       "3                    6.0     -1        1  ...    -1.0      -1         1   \n",
       "4                    4.0     -1        1  ...    -1.0      -1         1   \n",
       "\n",
       "   AU_<lambda>  AU_mean  unknown_grade_sum  unknown_grade_count  \\\n",
       "0           -1     -1.0                  0                    1   \n",
       "1           -1     -1.0                  0                    1   \n",
       "2           -1     -1.0                  3                   14   \n",
       "3           -1     -1.0                  0                    1   \n",
       "4           -1     -1.0                  0                    1   \n",
       "\n",
       "   unknown_grade_<lambda>  unknown_grade_mean  course_prefix_<lambda>  \n",
       "0                       0            0.000000                     121  \n",
       "1                       0            0.000000                     162  \n",
       "2                       0            0.214286                     142  \n",
       "3                       0            0.000000                     138  \n",
       "4                       0            0.000000                     167  \n",
       "\n",
       "[5 rows x 25 columns]"
      ]
     },
     "execution_count": 164,
     "metadata": {},
     "output_type": "execute_result"
    }
   ],
   "source": [
    "df_train=d_train.groupby('student_id').agg({'level':'max',\n",
    "                                          'major':lambda x: x.mode()[0],\n",
    "                                          'letter_grade':['min','max','var','mean',lambda x: x.mode()[0]],\n",
    "                                          'S':['sum','count',lambda x: x.mode()[0],'mean'],\n",
    "                                          'P':['sum','count',lambda x: x.mode()[0],'mean'],\n",
    "                                          'AU':['sum','count',lambda x: x.mode()[0],'mean'],\n",
    "                                          'unknown_grade':['sum','count',lambda x: x.mode()[0],'mean'],\n",
    "                                          'course_prefix':lambda x: x.mode()[0]\n",
    "})\n",
    "df_test=d_eval.groupby('student_id').agg({'level':'max',\n",
    "                                          'letter_grade':['min','max','var','mean',lambda x: x.mode()[0]],\n",
    "                                          'S':['sum','count',lambda x: x.mode()[0],'mean'],\n",
    "                                          'P':['sum','count',lambda x: x.mode()[0],'mean'],\n",
    "                                          'AU':['sum','count',lambda x: x.mode()[0],'mean'],\n",
    "                                          'unknown_grade':['sum','count',lambda x: x.mode()[0],'mean'],\n",
    "                                          'course_prefix':lambda x: x.mode()[0]})\n",
    "#rename columns\n",
    "new_name=['student_id']+[df_train.columns.droplevel(1).tolist()[i]+'_'+df_train.columns.droplevel(0).tolist()[i] \n",
    "          for i in range(df_train.shape[1])]\n",
    "new_name2=['student_id']+[df_test.columns.droplevel(1).tolist()[i]+'_'+df_test.columns.droplevel(0).tolist()[i] \n",
    "          for i in range(df_test.shape[1])]\n",
    "df_train.reset_index(inplace=True)\n",
    "df_test.reset_index(inplace=True)\n",
    "df_train.columns=new_name\n",
    "df_test.columns=new_name2\n",
    "df_train.head()"
   ]
  },
  {
   "cell_type": "code",
   "execution_count": 165,
   "metadata": {},
   "outputs": [],
   "source": [
    "# remove single value columns\n",
    "#AU_<lambda> has only 1 unique value, drop it\n",
    "df_train.drop('AU_<lambda>',axis=1,inplace=True)\n",
    "df_test.drop('AU_<lambda>',axis=1,inplace=True)"
   ]
  },
  {
   "cell_type": "code",
   "execution_count": 166,
   "metadata": {},
   "outputs": [],
   "source": [
    "df_train.fillna(0,inplace=True)\n",
    "df_test.fillna(0,inplace=True)"
   ]
  },
  {
   "cell_type": "markdown",
   "metadata": {},
   "source": [
    "# Exploratory data analysis on aggregated data"
   ]
  },
  {
   "cell_type": "markdown",
   "metadata": {},
   "source": [
    "We start our exploration with overview distribution plots for the various features."
   ]
  },
  {
   "cell_type": "code",
   "execution_count": 167,
   "metadata": {},
   "outputs": [
    {
     "name": "stdout",
     "output_type": "stream",
     "text": [
      "The top five majors with the largest distinct number of students in descending order is : ['Business' 'Communication Studies' 'Psychology' 'Human Physiology'\n",
      " 'English']\n"
     ]
    }
   ],
   "source": [
    "count = pd.DataFrame(df_train['major_<lambda>'].value_counts()).reset_index()\n",
    "print(\"The top five majors with the largest distinct number of students in descending order is :\", \n",
    "      le1.inverse_transform(count.head(5)['index'].values.tolist()))"
   ]
  },
  {
   "cell_type": "code",
   "execution_count": 168,
   "metadata": {},
   "outputs": [
    {
     "data": {
      "image/png": "[encoded data removed]",
      "text/plain": [
       "<Figure size 1296x432 with 1 Axes>"
      ]
     },
     "metadata": {
      "needs_background": "light"
     },
     "output_type": "display_data"
    }
   ],
   "source": [
    "fig, ax = plt.subplots( figsize=(18, 6))\n",
    "ax = sns.countplot(x=\"major_<lambda>\", data=df_train, order = df_train['major_<lambda>'].value_counts().index)\n",
    "ax.set_xlabel('Major_num', fontsize=12)\n",
    "ax.set_title('Number of Distinct Students in Different Majors')\n",
    "plt.show()"
   ]
  },
  {
   "cell_type": "code",
   "execution_count": 169,
   "metadata": {},
   "outputs": [],
   "source": [
    "# Then check the level proportion in different majors, here we only use the top ten majors that have the largest \n",
    "# distinct number of students\n",
    "top_10_majors = count.head(10)['index'].values.tolist()\n",
    "df_top10 = df_train.loc[df_train['major_<lambda>'].isin(top_10_majors)]\n",
    "df_top10['level']= df_top10['level_max'].map({1:'Freshman',2:'Sophomore',3:'Junior',4:'Senior'})\n",
    "df_top10['major']=le1.inverse_transform(df_top10['major_<lambda>'])"
   ]
  },
  {
   "cell_type": "code",
   "execution_count": 170,
   "metadata": {},
   "outputs": [
    {
     "data": {
      "image/png": "[encoded data removed]",
      "text/plain": [
       "<Figure size 1296x432 with 1 Axes>"
      ]
     },
     "metadata": {
      "needs_background": "light"
     },
     "output_type": "display_data"
    }
   ],
   "source": [
    "fig, ax = plt.subplots( figsize=(18, 6))\n",
    "ax = sns.countplot(x=\"major\", hue=\"level\", data=df_top10)\n",
    "ax.set_xlabel('Majors', fontsize=12)\n",
    "ax.set_title('Proportion of levels in different Majors')\n",
    "plt.show()"
   ]
  },
  {
   "cell_type": "code",
   "execution_count": 171,
   "metadata": {},
   "outputs": [],
   "source": [
    "# Then check the level proportion in different majors, here we only use the top ten majors that have the largest \n",
    "# distinct number of students\n",
    "top_5_majors = count.head(5)['index'].values.tolist()\n",
    "df_top5 = df_train.loc[df_train['major_<lambda>'].isin(top_5_majors)]\n",
    "df_top5['major']=le1.inverse_transform(df_top5['major_<lambda>'])\n",
    "df_top5['course_prefix']=le.inverse_transform(df_top5['course_prefix_<lambda>'])"
   ]
  },
  {
   "cell_type": "code",
   "execution_count": 172,
   "metadata": {
    "scrolled": false
   },
   "outputs": [
    {
     "data": {
      "image/png": "[encoded data removed]",
      "text/plain": [
       "<Figure size 1296x1008 with 1 Axes>"
      ]
     },
     "metadata": {
      "needs_background": "light"
     },
     "output_type": "display_data"
    }
   ],
   "source": [
    "fig, ax = plt.subplots( figsize=(18, 14))\n",
    "ax = sns.countplot(x=\"major\", hue=\"course_prefix\", data=df_top5)\n",
    "ax.set_xlabel('Majors', fontsize=12)\n",
    "ax.set_title('Count of course_prefix in different Majors')\n",
    "plt.show()"
   ]
  },
  {
   "cell_type": "markdown",
   "metadata": {},
   "source": [
    "From the countplot of course_name prefix of different major, we can tell: \n",
    "1. Students major in Business took a lot of courses with prefix 'SPAN'.\n",
    "2. Students major in Psychology took a lot of courses with prefix 'PSY'.\n",
    "3. Students major in Communication Studies took a lot of courses with prefix 'POLI'.\n",
    "\n",
    "The prefix of the course name seems closely related to the major of the student."
   ]
  },
  {
   "cell_type": "code",
   "execution_count": 173,
   "metadata": {},
   "outputs": [
    {
     "data": {
      "image/png": "[encoded data removed]",
      "text/plain": [
       "<Figure size 1296x432 with 5 Axes>"
      ]
     },
     "metadata": {
      "needs_background": "light"
     },
     "output_type": "display_data"
    }
   ],
   "source": [
    "major_list = df_top5['major'].unique().tolist()\n",
    "fig, axes = plt.subplots(nrows=1, ncols=5, figsize=(18, 6))\n",
    "for i in range(len(major_list)):\n",
    "    data = df_top5.loc[df_top5['major']== major_list[i]]['letter_grade_mean']\n",
    "    sns.distplot(data, ax=axes[i])\n",
    "    axes[i].title.set_text(major_list[i])\n",
    "plt.show()"
   ]
  },
  {
   "cell_type": "markdown",
   "metadata": {},
   "source": [
    "For different major, the distribution of grade_mean is different."
   ]
  },
  {
   "cell_type": "markdown",
   "metadata": {},
   "source": [
    "The plots above confirmed the new features we creatd by feature aggregation are useful for major prediction."
   ]
  },
  {
   "cell_type": "markdown",
   "metadata": {},
   "source": [
    "# Build Tree model"
   ]
  },
  {
   "cell_type": "markdown",
   "metadata": {},
   "source": [
    "Then we build a gradient-boosting classfification tree model to predict students major. \n",
    "There are three reasons why we choose the GBM model:\n",
    "1. No assumption on structure of  data, \n",
    "2. Nonparametric, which is the case of the most real data.\n",
    "3. Compared with traditional ML/statistical method, more accuracy on prediction."
   ]
  },
  {
   "cell_type": "code",
   "execution_count": 174,
   "metadata": {},
   "outputs": [],
   "source": [
    "features=[i for i in df_train.columns if i not in ['major_<lambda>','student_id','level'] ]\n",
    "random_state=2019\n",
    "lgb_params = {\n",
    "    # Use softmax as loss function\n",
    "    \"objective\" : \"softmax\",\n",
    "    'num_class':81,\n",
    "    \"boosting\": 'gbdt',\n",
    "    \"max_depth\" : -1,\n",
    "    \"num_leaves\" : 13,\n",
    "    \"learning_rate\" : 0.05,\n",
    "    \"bagging_freq\": 5,\n",
    "    \"bagging_fraction\" : 0.8,\n",
    "    \"feature_fraction\" : 0.7,\n",
    "    \"bagging_seed\" : random_state,\n",
    "    \"verbosity\" : 1,\n",
    "    \"seed\": random_state\n",
    "}"
   ]
  },
  {
   "cell_type": "markdown",
   "metadata": {},
   "source": [
    "# Define the metric to evaluate our outcome.\n",
    "For this case we define the metric to be an extended mutiple classfification accucary.\n",
    "\n",
    "$MultipleACC=(N^{-1})\\sum_{i=1}^{N}(I_i)$\n",
    "\n",
    "Where $I_i$ is the Indicator function of :for i_th observation, true major is in the predicted top 3 majors.\n",
    "\n",
    "Example: Suppose we have 100 students course taking records.\n",
    "We use our model to predict three possible majors for each student. \n",
    "If the true major is in the three possible majors we predicted, then we prediction is correct.\n",
    "If 90 students' major prediction is correct, then our model accuracy is 0.9."
   ]
  },
  {
   "cell_type": "code",
   "execution_count": 175,
   "metadata": {},
   "outputs": [],
   "source": [
    "def accuracy_multiple(preds, true):\n",
    "    preds=preds.reshape((-1,81))\n",
    "    preds =np.argpartition(preds,-3,axis=1)[:,-3:]\n",
    "    preds=pd.DataFrame(preds)\n",
    "    true=pd.DataFrame(true.values)\n",
    "    acc=np.mean((true[0]==preds[0])+(true[0]==preds[1])+(true[0]==preds[2]))\n",
    "    return 'multiclass Accuracy', acc"
   ]
  },
  {
   "cell_type": "markdown",
   "metadata": {},
   "source": [
    "# Result (0.935 Accuracy)"
   ]
  },
  {
   "cell_type": "code",
   "execution_count": 176,
   "metadata": {},
   "outputs": [
    {
     "name": "stdout",
     "output_type": "stream",
     "text": [
      "Training until validation scores don't improve for 30 rounds.\n",
      "[10]\ttraining's multi_logloss: 1.65461\tvalid_1's multi_logloss: 1.76769\n",
      "[20]\ttraining's multi_logloss: 1.13339\tvalid_1's multi_logloss: 1.29065\n",
      "[30]\ttraining's multi_logloss: 0.824025\tvalid_1's multi_logloss: 1.01101\n",
      "[40]\ttraining's multi_logloss: 0.63294\tvalid_1's multi_logloss: 0.84823\n",
      "[50]\ttraining's multi_logloss: 0.500185\tvalid_1's multi_logloss: 0.736593\n",
      "[60]\ttraining's multi_logloss: 0.40836\tvalid_1's multi_logloss: 0.665227\n",
      "[70]\ttraining's multi_logloss: 0.342668\tvalid_1's multi_logloss: 0.619078\n",
      "[80]\ttraining's multi_logloss: 0.29238\tvalid_1's multi_logloss: 0.586009\n",
      "[90]\ttraining's multi_logloss: 0.254377\tvalid_1's multi_logloss: 0.564973\n",
      "[100]\ttraining's multi_logloss: 0.224574\tvalid_1's multi_logloss: 0.549201\n",
      "[110]\ttraining's multi_logloss: 0.200623\tvalid_1's multi_logloss: 0.540399\n",
      "[120]\ttraining's multi_logloss: 0.181834\tvalid_1's multi_logloss: 0.536997\n",
      "[130]\ttraining's multi_logloss: 0.166169\tvalid_1's multi_logloss: 0.534119\n",
      "[140]\ttraining's multi_logloss: 0.15334\tvalid_1's multi_logloss: 0.534727\n",
      "[150]\ttraining's multi_logloss: 0.142246\tvalid_1's multi_logloss: 0.536204\n",
      "[160]\ttraining's multi_logloss: 0.132476\tvalid_1's multi_logloss: 0.538258\n",
      "Early stopping, best iteration is:\n",
      "[132]\ttraining's multi_logloss: 0.163351\tvalid_1's multi_logloss: 0.533755\n"
     ]
    }
   ],
   "source": [
    "from sklearn.model_selection import train_test_split\n",
    "#help(train_test_split)\n",
    "target=df_train['major_<lambda>']\n",
    "X_train, X_valid, y_train, y_valid = train_test_split(df_train[features], \n",
    "                                                    target, test_size=0.15,\n",
    "                                                    random_state=42)\n",
    "trn_data = lgb.Dataset(X_train, y_train)\n",
    "val_data = lgb.Dataset(X_valid, y_valid)\n",
    "lgb_clf = lgb.train(lgb_params,\n",
    "                        trn_data,\n",
    "                        1000,\n",
    "                        valid_sets = [trn_data,val_data],\n",
    "                        early_stopping_rounds=30,\n",
    "                        verbose_eval = 10\n",
    "                       )"
   ]
  },
  {
   "cell_type": "code",
   "execution_count": 177,
   "metadata": {},
   "outputs": [
    {
     "name": "stdout",
     "output_type": "stream",
     "text": [
      "On train set ('multiclass Accuracy', 0.9984705882352941)\n",
      "On valid set ('multiclass Accuracy', 0.9353333333333333)\n"
     ]
    }
   ],
   "source": [
    "print('On train set {}'.format(accuracy_multiple(lgb_clf.predict(X_train),y_train)))\n",
    "print('On valid set {}'.format(accuracy_multiple(lgb_clf.predict(X_valid),y_valid)))"
   ]
  },
  {
   "cell_type": "markdown",
   "metadata": {},
   "source": [
    "The prediction accuracy on training dataset is 0.998. And the prediction accuracy on validation dataset is 0,935."
   ]
  },
  {
   "cell_type": "code",
   "execution_count": 178,
   "metadata": {},
   "outputs": [
    {
     "data": {
      "text/plain": [
       "<matplotlib.axes._subplots.AxesSubplot at 0x1a1e284e80>"
      ]
     },
     "execution_count": 178,
     "metadata": {},
     "output_type": "execute_result"
    },
    {
     "data": {
      "image/png": "[encoded data removed]",
      "text/plain": [
       "<Figure size 1296x432 with 1 Axes>"
      ]
     },
     "metadata": {
      "needs_background": "light"
     },
     "output_type": "display_data"
    }
   ],
   "source": [
    "# Plot feature importance\n",
    "lgb.plot_importance(lgb_clf,figsize=(18,6))"
   ]
  },
  {
   "cell_type": "markdown",
   "metadata": {},
   "source": [
    "As we expected, the mode of the course_name prefix has the largest feature importance. \n",
    "\n",
    "To further improve model predictive accuracy, we could add the second mode of the course_name prfix, the third mode of the course_name prefix..... to prediction features."
   ]
  },
  {
   "cell_type": "code",
   "execution_count": 179,
   "metadata": {},
   "outputs": [],
   "source": [
    "# make submission\n",
    "preds=lgb_clf.predict(df_test[features])\n",
    "\n",
    "preds= np.argpartition(preds,-3,axis=1)[:,-3:]\n",
    "preds=pd.DataFrame(preds,columns=['major1','major2','major3'])\n",
    "preds['student_id']=df_test.student_id\n",
    "sub=pd.read_csv('eval.psv',delimiter='|').drop(['major1','major2','major3'],axis=1)\n",
    "sub=pd.merge(left=sub,right=preds,how='left',on='student_id')\n",
    "#inverse transform the major from label encoder to text\n",
    "for i in ['major1','major2','major3']:\n",
    "    sub[i]=le1.inverse_transform(sub[i])\n",
    "sub.to_csv('sub.psv',sep='|',index=False)"
   ]
  }
 ],
 "metadata": {
  "kernelspec": {
   "display_name": "Python 3",
   "language": "python",
   "name": "python3"
  },
  "language_info": {
   "codemirror_mode": {
    "name": "ipython",
    "version": 3
   },
   "file_extension": ".py",
   "mimetype": "text/x-python",
   "name": "python",
   "nbconvert_exporter": "python",
   "pygments_lexer": "ipython3",
   "version": "3.6.8"
  }
 },
 "nbformat": 4,
 "nbformat_minor": 2
}
